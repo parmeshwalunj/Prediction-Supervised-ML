{
  "nbformat": 4,
  "nbformat_minor": 0,
  "metadata": {
    "colab": {
      "name": "GRIP_Task#1_Prediction_using_Supervised_ML.ipynb",
      "provenance": []
    },
    "kernelspec": {
      "name": "python3",
      "display_name": "Python 3"
    },
    "language_info": {
      "name": "python"
    }
  },
  "cells": [
    {
      "cell_type": "markdown",
      "metadata": {
        "id": "9dV57zjbnbgI"
      },
      "source": [
        "##Name: Parmesh Walunj\n",
        "\n",
        "##The Sparks Foundation\n",
        "\n",
        "##Graduate Rotational Internship Program (GRIP) July 2021 Batch\n",
        "\n",
        "##Data Science & Business Analytics\n",
        "\n",
        "##Task 1 - Prediction using Supervised ML"
      ]
    },
    {
      "cell_type": "code",
      "metadata": {
        "id": "JcZ2cn2PJlP4"
      },
      "source": [
        "# Importing Essential Libraries\n",
        "\n",
        "import pandas as pd\n",
        "import numpy as np\n",
        "import matplotlib.pyplot as plt\n",
        "from sklearn.model_selection import train_test_split\n",
        "from sklearn.linear_model import LinearRegression\n",
        "from sklearn import metrics"
      ],
      "execution_count": null,
      "outputs": []
    },
    {
      "cell_type": "markdown",
      "metadata": {
        "id": "elTok3Oquh2M"
      },
      "source": [
        "Fetching the Data and Data Preprocessing"
      ]
    },
    {
      "cell_type": "code",
      "metadata": {
        "colab": {
          "base_uri": "https://localhost:8080/",
          "height": 268
        },
        "id": "m2pShRUJKAFG",
        "outputId": "5e0e51ee-1fb8-4516-b0dc-22241349b43b"
      },
      "source": [
        "# Fetching the Data from given link\n",
        "\n",
        "data_link = \"http://bit.ly/w-data\"\n",
        "data = pd.read_csv(data_link)\n",
        "data.head(7)"
      ],
      "execution_count": null,
      "outputs": [
        {
          "output_type": "execute_result",
          "data": {
            "text/html": [
              "<div>\n",
              "<style scoped>\n",
              "    .dataframe tbody tr th:only-of-type {\n",
              "        vertical-align: middle;\n",
              "    }\n",
              "\n",
              "    .dataframe tbody tr th {\n",
              "        vertical-align: top;\n",
              "    }\n",
              "\n",
              "    .dataframe thead th {\n",
              "        text-align: right;\n",
              "    }\n",
              "</style>\n",
              "<table border=\"1\" class=\"dataframe\">\n",
              "  <thead>\n",
              "    <tr style=\"text-align: right;\">\n",
              "      <th></th>\n",
              "      <th>Hours</th>\n",
              "      <th>Scores</th>\n",
              "    </tr>\n",
              "  </thead>\n",
              "  <tbody>\n",
              "    <tr>\n",
              "      <th>0</th>\n",
              "      <td>2.5</td>\n",
              "      <td>21</td>\n",
              "    </tr>\n",
              "    <tr>\n",
              "      <th>1</th>\n",
              "      <td>5.1</td>\n",
              "      <td>47</td>\n",
              "    </tr>\n",
              "    <tr>\n",
              "      <th>2</th>\n",
              "      <td>3.2</td>\n",
              "      <td>27</td>\n",
              "    </tr>\n",
              "    <tr>\n",
              "      <th>3</th>\n",
              "      <td>8.5</td>\n",
              "      <td>75</td>\n",
              "    </tr>\n",
              "    <tr>\n",
              "      <th>4</th>\n",
              "      <td>3.5</td>\n",
              "      <td>30</td>\n",
              "    </tr>\n",
              "    <tr>\n",
              "      <th>5</th>\n",
              "      <td>1.5</td>\n",
              "      <td>20</td>\n",
              "    </tr>\n",
              "    <tr>\n",
              "      <th>6</th>\n",
              "      <td>9.2</td>\n",
              "      <td>88</td>\n",
              "    </tr>\n",
              "  </tbody>\n",
              "</table>\n",
              "</div>"
            ],
            "text/plain": [
              "   Hours  Scores\n",
              "0    2.5      21\n",
              "1    5.1      47\n",
              "2    3.2      27\n",
              "3    8.5      75\n",
              "4    3.5      30\n",
              "5    1.5      20\n",
              "6    9.2      88"
            ]
          },
          "metadata": {
            "tags": []
          },
          "execution_count": 2
        }
      ]
    },
    {
      "cell_type": "code",
      "metadata": {
        "id": "OSo09M5lp7pX"
      },
      "source": [
        "# Assigning all Hours value to hours variable & all Scores value to scores variable from DataFrame\n",
        "\n",
        "hours = data.iloc[:,0].values\n",
        "scores = data.iloc[:,1].values"
      ],
      "execution_count": null,
      "outputs": []
    },
    {
      "cell_type": "markdown",
      "metadata": {
        "id": "tMM4tCjqurLW"
      },
      "source": [
        "Plotting the Hours vs Scores Graph "
      ]
    },
    {
      "cell_type": "code",
      "metadata": {
        "colab": {
          "base_uri": "https://localhost:8080/",
          "height": 300
        },
        "id": "z9ceV85-Oe_M",
        "outputId": "2ed4ba40-1519-4257-9544-938495bf7041"
      },
      "source": [
        "# Plotting Hours vs Scores Graph\n",
        "\n",
        "plt.scatter(hours, scores, color='red')\n",
        "plt.title(\"Scores vs Hours graph\", fontdict={'fontsize':20})\n",
        "plt.xlabel(\"Hours\")\n",
        "plt.ylabel(\"Scores\")\n",
        "plt.show()"
      ],
      "execution_count": null,
      "outputs": [
        {
          "output_type": "display_data",
          "data": {
            "image/png": "[encoded data removed]",
            "text/plain": [
              "<Figure size 432x288 with 1 Axes>"
            ]
          },
          "metadata": {
            "tags": [],
            "needs_background": "light"
          }
        }
      ]
    },
    {
      "cell_type": "markdown",
      "metadata": {
        "id": "6zHx1n6Su0aM"
      },
      "source": [
        "Splitting the Data and Training the Model"
      ]
    },
    {
      "cell_type": "code",
      "metadata": {
        "id": "nuTUZnfk9lY-"
      },
      "source": [
        "# Splitting the Data into training and testing part using train_test_split()\n",
        "\n",
        "x_train, x_test, y_train, y_test = train_test_split(hours, scores, test_size=0.25, random_state=0)"
      ],
      "execution_count": null,
      "outputs": []
    },
    {
      "cell_type": "code",
      "metadata": {
        "colab": {
          "base_uri": "https://localhost:8080/"
        },
        "id": "S97dl8k5eonZ",
        "outputId": "a1b1b055-925d-4eea-f8ef-311a8754447a"
      },
      "source": [
        "# Training the model on the given data\n",
        "\n",
        "regressor = LinearRegression()\n",
        "regressor.fit(x_train.reshape(-1,1), y_train)\n",
        "\n",
        "print(\"Finished Training the model\")"
      ],
      "execution_count": null,
      "outputs": [
        {
          "output_type": "stream",
          "text": [
            "Finished Training the model\n"
          ],
          "name": "stdout"
        }
      ]
    },
    {
      "cell_type": "code",
      "metadata": {
        "colab": {
          "base_uri": "https://localhost:8080/"
        },
        "id": "Q2g6lJ-HfDcl",
        "outputId": "93dbd195-3d0c-4820-9341-4b3e47e2f7e5"
      },
      "source": [
        "# Regression Line is obtained after completing the training of the model\n",
        "\n",
        "line = regressor.coef_*hours+regressor.intercept_\n",
        "line"
      ],
      "execution_count": null,
      "outputs": [
        {
          "output_type": "execute_result",
          "data": {
            "text/plain": [
              "array([26.7864001 , 52.63476378, 33.74557494, 86.43647014, 36.72807844,\n",
              "       16.84472176, 93.39564498, 56.61143512, 84.44813447, 28.77473577,\n",
              "       78.48312747, 60.58810646, 46.66975678, 34.73974277, 12.86805043,\n",
              "       90.41314147, 26.7864001 , 20.8213931 , 62.57644212, 75.50062397,\n",
              "       28.77473577, 49.65226028, 39.71058194, 70.5297848 , 79.4772953 ])"
            ]
          },
          "metadata": {
            "tags": []
          },
          "execution_count": 8
        }
      ]
    },
    {
      "cell_type": "code",
      "metadata": {
        "colab": {
          "base_uri": "https://localhost:8080/",
          "height": 265
        },
        "id": "1WRJebSHgFNd",
        "outputId": "69ce4248-f8bd-42ed-bdc6-aed88d7db217"
      },
      "source": [
        "# Plotting the Regression line on the graph and visualizing the data\n",
        "\n",
        "plt.scatter(hours, scores, color=\"red\")\n",
        "plt.plot(hours, line, color=\"green\")\n",
        "plt.show()"
      ],
      "execution_count": null,
      "outputs": [
        {
          "output_type": "display_data",
          "data": {
            "image/png": "[encoded data removed]",
            "text/plain": [
              "<Figure size 432x288 with 1 Axes>"
            ]
          },
          "metadata": {
            "tags": [],
            "needs_background": "light"
          }
        }
      ]
    },
    {
      "cell_type": "markdown",
      "metadata": {
        "id": "z0SKTy0pvRFA"
      },
      "source": [
        "Making Predictions from Trained Model"
      ]
    },
    {
      "cell_type": "code",
      "metadata": {
        "colab": {
          "base_uri": "https://localhost:8080/"
        },
        "id": "c74f9lUogoZd",
        "outputId": "7f4987d1-959d-4921-b0a8-2319acd5d3db"
      },
      "source": [
        "# Resulting the predictions for our test data from our trained model\n",
        "\n",
        "print(x_test)\n",
        "\n",
        "y_pred = regressor.predict(x_test.reshape(-1,1))"
      ],
      "execution_count": null,
      "outputs": [
        {
          "output_type": "stream",
          "text": [
            "[1.5 3.2 7.4 2.5 5.9 3.8 1.9]\n"
          ],
          "name": "stdout"
        }
      ]
    },
    {
      "cell_type": "code",
      "metadata": {
        "colab": {
          "base_uri": "https://localhost:8080/",
          "height": 268
        },
        "id": "l3EUOJq2hCmD",
        "outputId": "c2fd3083-261c-4047-84f7-0874a8b12f93"
      },
      "source": [
        "# Creating a DataFrame for the Actual Values and Predicted Values\n",
        "\n",
        "new_data = pd.DataFrame({'Actual Values':y_test,'Predicted Values':y_pred})\n",
        "new_data"
      ],
      "execution_count": null,
      "outputs": [
        {
          "output_type": "execute_result",
          "data": {
            "text/html": [
              "<div>\n",
              "<style scoped>\n",
              "    .dataframe tbody tr th:only-of-type {\n",
              "        vertical-align: middle;\n",
              "    }\n",
              "\n",
              "    .dataframe tbody tr th {\n",
              "        vertical-align: top;\n",
              "    }\n",
              "\n",
              "    .dataframe thead th {\n",
              "        text-align: right;\n",
              "    }\n",
              "</style>\n",
              "<table border=\"1\" class=\"dataframe\">\n",
              "  <thead>\n",
              "    <tr style=\"text-align: right;\">\n",
              "      <th></th>\n",
              "      <th>Actual Values</th>\n",
              "      <th>Predicted Values</th>\n",
              "    </tr>\n",
              "  </thead>\n",
              "  <tbody>\n",
              "    <tr>\n",
              "      <th>0</th>\n",
              "      <td>20</td>\n",
              "      <td>16.844722</td>\n",
              "    </tr>\n",
              "    <tr>\n",
              "      <th>1</th>\n",
              "      <td>27</td>\n",
              "      <td>33.745575</td>\n",
              "    </tr>\n",
              "    <tr>\n",
              "      <th>2</th>\n",
              "      <td>69</td>\n",
              "      <td>75.500624</td>\n",
              "    </tr>\n",
              "    <tr>\n",
              "      <th>3</th>\n",
              "      <td>30</td>\n",
              "      <td>26.786400</td>\n",
              "    </tr>\n",
              "    <tr>\n",
              "      <th>4</th>\n",
              "      <td>62</td>\n",
              "      <td>60.588106</td>\n",
              "    </tr>\n",
              "    <tr>\n",
              "      <th>5</th>\n",
              "      <td>35</td>\n",
              "      <td>39.710582</td>\n",
              "    </tr>\n",
              "    <tr>\n",
              "      <th>6</th>\n",
              "      <td>24</td>\n",
              "      <td>20.821393</td>\n",
              "    </tr>\n",
              "  </tbody>\n",
              "</table>\n",
              "</div>"
            ],
            "text/plain": [
              "   Actual Values  Predicted Values\n",
              "0             20         16.844722\n",
              "1             27         33.745575\n",
              "2             69         75.500624\n",
              "3             30         26.786400\n",
              "4             62         60.588106\n",
              "5             35         39.710582\n",
              "6             24         20.821393"
            ]
          },
          "metadata": {
            "tags": []
          },
          "execution_count": 11
        }
      ]
    },
    {
      "cell_type": "code",
      "metadata": {
        "colab": {
          "base_uri": "https://localhost:8080/"
        },
        "id": "7W_dVf0KiTTT",
        "outputId": "c1e9c270-885c-41c5-d37a-9c187abf65f4"
      },
      "source": [
        "# Inputting the custom hours value to model to obtain the prediction of hours\n",
        "\n",
        "my_value = np.array(4)\n",
        "print(\"Inputted value of Hours is \",my_value)\n",
        "print(\"Score for inputted Hours is {}\".format(float(regressor.predict(my_value.reshape(1,-1)))))"
      ],
      "execution_count": null,
      "outputs": [
        {
          "output_type": "stream",
          "text": [
            "Inputted value of Hours is  4\n",
            "Score for inputted Hours is 41.69891761110404\n"
          ],
          "name": "stdout"
        }
      ]
    },
    {
      "cell_type": "markdown",
      "metadata": {
        "id": "rEHZMTQ2vcaW"
      },
      "source": [
        "Evaluating the Model for Performance"
      ]
    },
    {
      "cell_type": "code",
      "metadata": {
        "colab": {
          "base_uri": "https://localhost:8080/"
        },
        "id": "954-Dzlejt32",
        "outputId": "2d10e837-d327-40a4-c37b-c37572a540ca"
      },
      "source": [
        "# Performance evaluation of model\n",
        "\n",
        "print(\"Mean absolute error:\",metrics.mean_absolute_error(y_test,y_pred))"
      ],
      "execution_count": null,
      "outputs": [
        {
          "output_type": "stream",
          "text": [
            "Mean absolute error: 4.130879918502482\n"
          ],
          "name": "stdout"
        }
      ]
    },
    {
      "cell_type": "markdown",
      "metadata": {
        "id": "i5uUddSwxFn6"
      },
      "source": [
        "#Thank You!"
      ]
    }
  ]
}